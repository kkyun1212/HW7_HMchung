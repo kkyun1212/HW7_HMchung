{
 "cells": [
  {
   "cell_type": "code",
   "execution_count": 10,
   "id": "6c9a029c",
   "metadata": {},
   "outputs": [
    {
     "name": "stdout",
     "output_type": "stream",
     "text": [
      "Eigenvalues:\n",
      "[-0.37228132  5.37228132]\n",
      "\n",
      "\n",
      "Eigenvectors:\n",
      "[[-0.82456484 -0.41597356]\n",
      " [ 0.56576746 -0.90937671]]\n",
      "\n",
      "\n",
      "Determinant:\n",
      "-2.0000000000000004\n",
      "\n",
      "\n",
      "Cross Product:\n",
      "[-3  6 -3]\n",
      "\n",
      "\n",
      "Solution:\n",
      "[[-1.]\n",
      " [-4.]\n",
      " [ 3.]]\n"
     ]
    }
   ],
   "source": [
    "import numpy as np\n",
    "\n",
    "arr = np.array([[1, 2], [3, 4]])\n",
    "vec1 = np.array([1, 2, 3])\n",
    "vec2 = np.array([4, 5, 6])\n",
    "\n",
    "eigenvalues, eigenvectors = np.linalg.eig(arr)\n",
    "\n",
    "determinant = np.linalg.det(arr)\n",
    "\n",
    "print(\"Eigenvalues:\")\n",
    "print(eigenvalues)\n",
    "print('\\n')\n",
    "\n",
    "print(\"Eigenvectors:\")\n",
    "print(eigenvectors)\n",
    "print('\\n')\n",
    "\n",
    "print(\"Determinant:\")\n",
    "print(determinant)\n",
    "print('\\n')\n",
    "\n",
    "cross_product = np.cross(vec1, vec2)\n",
    "\n",
    "print(\"Cross Product:\")\n",
    "print(cross_product)\n",
    "print('\\n')\n",
    "\n",
    "\n",
    "A = np.array([[1, 2, -2], [2, 1, -5], [1, -4, 1]])\n",
    "b = np.array([[-15], [-21], [18]])\n",
    "\n",
    "x = np.linalg.solve(A, b)\n",
    "\n",
    "print(\"Solution:\")\n",
    "print(x)"
   ]
  },
  {
   "cell_type": "code",
   "execution_count": null,
   "id": "1cd9d06d",
   "metadata": {},
   "outputs": [],
   "source": []
  },
  {
   "cell_type": "code",
   "execution_count": null,
   "id": "e448f7f2",
   "metadata": {},
   "outputs": [],
   "source": []
  }
 ],
 "metadata": {
  "kernelspec": {
   "display_name": "Python 3 (ipykernel)",
   "language": "python",
   "name": "python3"
  },
  "language_info": {
   "codemirror_mode": {
    "name": "ipython",
    "version": 3
   },
   "file_extension": ".py",
   "mimetype": "text/x-python",
   "name": "python",
   "nbconvert_exporter": "python",
   "pygments_lexer": "ipython3",
   "version": "3.9.13"
  }
 },
 "nbformat": 4,
 "nbformat_minor": 5
}
