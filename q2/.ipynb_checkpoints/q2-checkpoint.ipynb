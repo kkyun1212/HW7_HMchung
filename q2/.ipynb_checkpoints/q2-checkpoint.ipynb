{
 "cells": [
  {
   "cell_type": "code",
   "execution_count": 2,
   "id": "6fc0de84",
   "metadata": {},
   "outputs": [
    {
     "name": "stdout",
     "output_type": "stream",
     "text": [
      "doc1 = 0.58\n",
      "doc2 = 0.87\n",
      "doc3 = 0.67\n"
     ]
    }
   ],
   "source": [
    "import numpy as np\n",
    "\n",
    "Docs = np.array([[1, 1, 0, 1, 0, 1],\n",
    "                 [1, 1, 1, 0, 1, 0],\n",
    "                 [1, 1, 0, 1, 0, 0]])\n",
    "\n",
    "Query = np.array([1, 1, 0, 0, 1, 0])\n",
    "\n",
    "dot_product = np.dot(Docs, Query)\n",
    "\n",
    "query_length = np.linalg.norm(Query)\n",
    "docs_length = np.linalg.norm(Docs, axis=1)\n",
    "\n",
    "cosine_similarity = dot_product / (query_length * docs_length)\n",
    "\n",
    "doc1_similarity = cosine_similarity[0]\n",
    "doc2_similarity = cosine_similarity[1]\n",
    "doc3_similarity = cosine_similarity[2]\n",
    "\n",
    "print(\"doc1 =\", np.round(doc1_similarity, 2))\n",
    "print(\"doc2 =\", np.round(doc2_similarity, 2))\n",
    "print(\"doc3 =\", np.round(doc3_similarity, 2))\n"
   ]
  },
  {
   "cell_type": "code",
   "execution_count": null,
   "id": "f6c48d10",
   "metadata": {},
   "outputs": [],
   "source": []
  }
 ],
 "metadata": {
  "kernelspec": {
   "display_name": "Python 3 (ipykernel)",
   "language": "python",
   "name": "python3"
  },
  "language_info": {
   "codemirror_mode": {
    "name": "ipython",
    "version": 3
   },
   "file_extension": ".py",
   "mimetype": "text/x-python",
   "name": "python",
   "nbconvert_exporter": "python",
   "pygments_lexer": "ipython3",
   "version": "3.9.13"
  }
 },
 "nbformat": 4,
 "nbformat_minor": 5
}
